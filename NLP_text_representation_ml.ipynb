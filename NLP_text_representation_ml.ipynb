{
  "cells": [
    {
      "cell_type": "code",
      "execution_count": 1,
      "metadata": {
        "id": "ded4EpxtVJf5"
      },
      "outputs": [],
      "source": [
        "!mkdir -p ~/.kaggle\n",
        "!cp /home/manav-bassi/Downloads/kaggle.json ~/.kaggle/\n",
        "!chmod 600 ~/.kaggle/kaggle.json\n",
        "\n"
      ]
    },
    {
      "cell_type": "code",
      "execution_count": null,
      "metadata": {
        "colab": {
          "base_uri": "https://localhost:8080/"
        },
        "id": "wEh50EogUr1J",
        "outputId": "a1daa817-1572-436a-a175-007873424aaa"
      },
      "outputs": [
        {
          "name": "stdout",
          "output_type": "stream",
          "text": [
            "Dataset URL: https://www.kaggle.com/datasets/lakshmi25npathi/imdb-dataset-of-50k-movie-reviews\n",
            "License(s): other\n",
            "imdb-dataset-of-50k-movie-reviews.zip: Skipping, found more recently modified local copy (use --force to force download)\n",
            "Archive:  ./data/imdb-dataset-of-50k-movie-reviews.zip\n",
            "replace ./data/IMDB Dataset.csv? [y]es, [n]o, [A]ll, [N]one, [r]ename: "
          ]
        }
      ],
      "source": [
        "import os\n",
        "\n",
        "# make a data directory in your current path\n",
        "os.makedirs(\"data\", exist_ok=True)\n",
        "\n",
        "# now download dataset to ./data\n",
        "!kaggle datasets download -d lakshmi25npathi/imdb-dataset-of-50k-movie-reviews -p ./data\n",
        "\n",
        "# unzip\n",
        "!unzip ./data/imdb-dataset-of-50k-movie-reviews.zip -d ./data\n"
      ]
    },
    {
      "cell_type": "code",
      "execution_count": null,
      "metadata": {
        "id": "pjT-gbwiVFCJ"
      },
      "outputs": [],
      "source": [
        "import numpy as np\n",
        "import pandas as pd\n",
        "df = pd.read_csv('/home/manav-bassi/python_envs/data/IMDB Dataset.csv')"
      ]
    },
    {
      "cell_type": "code",
      "execution_count": null,
      "metadata": {
        "colab": {
          "base_uri": "https://localhost:8080/",
          "height": 206
        },
        "id": "X-5lDkiQV4rb",
        "outputId": "c05aa1dd-1d6a-4ec3-ff53-345d48cd4099"
      },
      "outputs": [
        {
          "data": {
            "text/html": [
              "<div>\n",
              "<style scoped>\n",
              "    .dataframe tbody tr th:only-of-type {\n",
              "        vertical-align: middle;\n",
              "    }\n",
              "\n",
              "    .dataframe tbody tr th {\n",
              "        vertical-align: top;\n",
              "    }\n",
              "\n",
              "    .dataframe thead th {\n",
              "        text-align: right;\n",
              "    }\n",
              "</style>\n",
              "<table border=\"1\" class=\"dataframe\">\n",
              "  <thead>\n",
              "    <tr style=\"text-align: right;\">\n",
              "      <th></th>\n",
              "      <th>review</th>\n",
              "      <th>sentiment</th>\n",
              "    </tr>\n",
              "  </thead>\n",
              "  <tbody>\n",
              "    <tr>\n",
              "      <th>0</th>\n",
              "      <td>One of the other reviewers has mentioned that ...</td>\n",
              "      <td>positive</td>\n",
              "    </tr>\n",
              "    <tr>\n",
              "      <th>1</th>\n",
              "      <td>A wonderful little production. &lt;br /&gt;&lt;br /&gt;The...</td>\n",
              "      <td>positive</td>\n",
              "    </tr>\n",
              "    <tr>\n",
              "      <th>2</th>\n",
              "      <td>I thought this was a wonderful way to spend ti...</td>\n",
              "      <td>positive</td>\n",
              "    </tr>\n",
              "    <tr>\n",
              "      <th>3</th>\n",
              "      <td>Basically there's a family where a little boy ...</td>\n",
              "      <td>negative</td>\n",
              "    </tr>\n",
              "    <tr>\n",
              "      <th>4</th>\n",
              "      <td>Petter Mattei's \"Love in the Time of Money\" is...</td>\n",
              "      <td>positive</td>\n",
              "    </tr>\n",
              "  </tbody>\n",
              "</table>\n",
              "</div>"
            ],
            "text/plain": [
              "                                              review sentiment\n",
              "0  One of the other reviewers has mentioned that ...  positive\n",
              "1  A wonderful little production. <br /><br />The...  positive\n",
              "2  I thought this was a wonderful way to spend ti...  positive\n",
              "3  Basically there's a family where a little boy ...  negative\n",
              "4  Petter Mattei's \"Love in the Time of Money\" is...  positive"
            ]
          },
          "execution_count": 16,
          "metadata": {},
          "output_type": "execute_result"
        }
      ],
      "source": [
        "df.head()"
      ]
    },
    {
      "cell_type": "markdown",
      "metadata": {
        "id": "WVCwbegMWgPP"
      },
      "source": [
        "# 1. text_preprocessing"
      ]
    },
    {
      "cell_type": "code",
      "execution_count": null,
      "metadata": {
        "id": "SfcgKPwVV7hg"
      },
      "outputs": [],
      "source": [
        "df['review'] = df['review'].str.lower()"
      ]
    },
    {
      "cell_type": "code",
      "execution_count": null,
      "metadata": {
        "id": "7oGNInilW1Mz"
      },
      "outputs": [],
      "source": [
        "import re\n",
        "def remove_html_tags(text):\n",
        "  pattern = re.compile('<.*?>')\n",
        "  return pattern.sub(r'',text)\n",
        "\n",
        "\n",
        "df['review'] = df['review'].apply(remove_html_tags)"
      ]
    },
    {
      "cell_type": "code",
      "execution_count": null,
      "metadata": {
        "id": "imxUZ5uJWtWz"
      },
      "outputs": [],
      "source": [
        "def remove_url(text):\n",
        "  pattern = re.compile(r'https?://S+|www\\.\\S+')\n",
        "  return pattern.sub(r'',text)\n",
        "\n",
        "df['review'] = df['review'].apply(remove_url)"
      ]
    },
    {
      "cell_type": "code",
      "execution_count": null,
      "metadata": {
        "id": "q4EtePx6XopQ"
      },
      "outputs": [],
      "source": [
        "import string\n",
        "exclude = string.punctuation\n",
        "translator = str.maketrans('','',exclude)\n",
        "def remove_punc(text):\n",
        "  return text.translate(translator)\n",
        "\n",
        "df['review'] = df['review'].apply(remove_punc)"
      ]
    },
    {
      "cell_type": "code",
      "execution_count": null,
      "metadata": {
        "colab": {
          "base_uri": "https://localhost:8080/"
        },
        "id": "ofpXgd-_Xu6x",
        "outputId": "162d0528-1c3d-48a3-84f8-2aab4ebc4914"
      },
      "outputs": [],
      "source": [
        "import nltk\n",
        "from nltk.corpus import stopwords\n",
        "nltk.download('stopwords')\n",
        "stopwords = stopwords.words('english')\n",
        "def remove_stopwords(text):\n",
        "  new_text = []\n",
        "  for word in text.split():\n",
        "    if word in stopwords:\n",
        "      new_text.append('')\n",
        "    else:\n",
        "      new_text.append(word)\n",
        "  x = new_text[:]\n",
        "  return \" \".join(x)\n",
        "\n",
        "df['review'] = df['review'].apply(remove_stopwords)\n"
      ]
    },
    {
      "cell_type": "code",
      "execution_count": null,
      "metadata": {
        "colab": {
          "base_uri": "https://localhost:8080/"
        },
        "id": "spP_ni2UZ1g8",
        "outputId": "99de1bec-bfe1-4c00-bd74-f9ae3e9cce5c"
      },
      "outputs": [],
      "source": [
        "from nltk.tokenize import word_tokenize\n",
        "nltk.download('punkt_tab')"
      ]
    },
    {
      "cell_type": "code",
      "execution_count": null,
      "metadata": {
        "colab": {
          "base_uri": "https://localhost:8080/"
        },
        "id": "0I0G-pdYurRA",
        "outputId": "c64c2b4e-e3af-4964-b00b-5c8fc5bb0da6"
      },
      "outputs": [],
      "source": [
        "#one hot encoding\n",
        "from sklearn.feature_extraction.text import CountVectorizer\n",
        "vectorizer = CountVectorizer(binary = True)\n",
        "x = vectorizer.fit_transform(df['review'])\n",
        "print(x.shape)"
      ]
    },
    {
      "cell_type": "code",
      "execution_count": null,
      "metadata": {
        "colab": {
          "base_uri": "https://localhost:8080/"
        },
        "id": "q4hlmDbDER_k",
        "outputId": "aa65a6f5-b2cd-42aa-8043-12f53c94ee89"
      },
      "outputs": [],
      "source": [
        "# bag of words\n",
        "vectorizer = CountVectorizer()\n",
        "x = vectorizer.fit_transform(df['review'])\n",
        "print(x.shape)"
      ]
    },
    {
      "cell_type": "code",
      "execution_count": null,
      "metadata": {
        "id": "w41z4ztHfbbw"
      },
      "outputs": [],
      "source": [
        "# n_grams\n",
        "vectorizer = CountVectorizer(ngram_range=(2,2))\n",
        "x = vectorizer.fit_transform(df['review'])\n"
      ]
    },
    {
      "cell_type": "code",
      "execution_count": null,
      "metadata": {
        "id": "G1O1FFJLfulM"
      },
      "outputs": [],
      "source": [
        "# tf idf\n",
        "from sklearn.feature_extraction.text import TfidfVectorizer\n",
        "vectorizer = TfidfVectorizer()\n",
        "x = vectorizer.fit_transform(df['review']).toarray()\n",
        "print(x.shape)"
      ]
    },
    {
      "cell_type": "code",
      "execution_count": null,
      "metadata": {
        "id": "Tomx9x3XoSfj"
      },
      "outputs": [],
      "source": [
        "print(vectorizer.idf_)"
      ]
    }
  ],
  "metadata": {
    "accelerator": "GPU",
    "colab": {
      "gpuType": "T4",
      "provenance": []
    },
    "kernelspec": {
      "display_name": "env (3.12.3)",
      "language": "python",
      "name": "python3"
    },
    "language_info": {
      "codemirror_mode": {
        "name": "ipython",
        "version": 3
      },
      "file_extension": ".py",
      "mimetype": "text/x-python",
      "name": "python",
      "nbconvert_exporter": "python",
      "pygments_lexer": "ipython3",
      "version": "3.12.3"
    }
  },
  "nbformat": 4,
  "nbformat_minor": 0
}
